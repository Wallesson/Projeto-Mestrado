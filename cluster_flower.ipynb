{
 "cells": [
  {
   "cell_type": "markdown",
   "id": "f72c3c28",
   "metadata": {},
   "source": [
    "## Algoritmo de Clusterização Flower"
   ]
  },
  {
   "cell_type": "markdown",
   "id": "2f67bb24",
   "metadata": {},
   "source": [
    "### Tratamento dos dados"
   ]
  },
  {
   "cell_type": "code",
   "execution_count": 1,
   "id": "191b04b7",
   "metadata": {},
   "outputs": [],
   "source": [
    "import numpy as np\n",
    "import pandas as pd\n",
    "import csv\n",
    "import random\n",
    "import time\n",
    "import sqlite3\n",
    "import difflib\n",
    "import pm4py\n",
    "import pygad\n",
    "from pm4py.algo.discovery.inductive import algorithm as inductive_miner\n",
    "from pm4py.algo.evaluation.precision import algorithm as precision_evaluator\n",
    "from pm4py.objects.conversion.process_tree import converter\n",
    "from pm4py.visualization.bpmn import visualizer as bpmn_visualization\n",
    "from scipy import stats\n",
    "from datetime import datetime"
   ]
  },
  {
   "cell_type": "code",
   "execution_count": 4,
   "id": "0f8a1195",
   "metadata": {},
   "outputs": [
    {
     "data": {
      "text/plain": [
       "'\\n#LOG BPI 2012 \\nfrom pm4py.objects.log.importer.xes import importer as xes_importer\\n#log_xes = pm4py.read_xes(\"BPI_Challenge_2012.xes\")\\nlog_xes = xes_importer.apply(\\'BPI_Challenge_2012.xes\\')\\ndf_pd = pm4py.convert_to_dataframe(log_xes)\\ndf_pd\\n'"
      ]
     },
     "execution_count": 4,
     "metadata": {},
     "output_type": "execute_result"
    }
   ],
   "source": [
    "'''\n",
    "#LOG BPI 2012 \n",
    "from pm4py.objects.log.importer.xes import importer as xes_importer\n",
    "#log_xes = pm4py.read_xes(\"BPI_Challenge_2012.xes\")\n",
    "log_xes = xes_importer.apply('BPI_Challenge_2012.xes')\n",
    "df_pd = pm4py.convert_to_dataframe(log_xes)\n",
    "df_pd\n",
    "\n",
    "\n",
    "X_ = df_pd[['concept:name','case:concept:name', 'time:timestamp']]\n",
    "log = pm4py.format_dataframe(X_, case_id='concept:name', activity_key='case:concept:name', timestamp_key='time:timestamp')\n",
    "tree = pm4py.algo.discovery.inductive.variants.im.algorithm.apply_tree(log)\n",
    "tree = pm4py.discover_process_tree_inductive(log)\n",
    "bpmn_graph = pm4py.convert_to_bpmn(tree)\n",
    "pm4py.view_bpmn(bpmn_graph)\n",
    "'''"
   ]
  },
  {
   "cell_type": "markdown",
   "id": "8254f98d",
   "metadata": {},
   "source": [
    "## Pré-Processamento "
   ]
  },
  {
   "cell_type": "code",
   "execution_count": 5,
   "id": "8c5785af",
   "metadata": {},
   "outputs": [
    {
     "data": {
      "application/vnd.jupyter.widget-view+json": {
       "model_id": "c939e2f4b5d04ce78179eab3f716c8f6",
       "version_major": 2,
       "version_minor": 0
      },
      "text/plain": [
       "parsing log, completed traces ::   0%|          | 0/1391 [00:00<?, ?it/s]"
      ]
     },
     "metadata": {},
     "output_type": "display_data"
    },
    {
     "name": "stdout",
     "output_type": "stream",
     "text": [
      "Número de eventos:  34110\n",
      "Número de traces:  1391\n",
      "[frozenset({'DISTRIBUÍDO', 'REDISTRIBUÍDO'}), frozenset({'PARECER ASSINADO', 'DESPACHO ASSINADO'}), frozenset({'AGUARDANDO ASSINATURA DO COORDENADOR', 'AGUARDANDO ASSINATURA DO CONSULTORIA', 'AGUARDANDO ASSINATURA DO ORIENTADOR'}), frozenset({'AGUARDANDO DOCUMENTO E/OU INFORMAÇÕES DO CONTRIBUINTE', 'AGUARDANDO CIÊNCIA DO CONTRIBUINTE', 'AGUARDANDO ASSINATURA DO CONTRIBUINTE'}), frozenset({'ARQUIVADO', 'DESARQUIVADO'}), frozenset({'AGUARDANDO DOCUMENTO E/OU INFORMAÇÕES DO CONTRIBUINTE', 'AGUARDANDO DOCUMENTO/INFORMAÇÃO'}), frozenset({'AGUARDANDO ANÁLISE DO COORDENADOR', 'AGUARDANDO ASSINATURA DO CONSULTORIA', 'AGUARDANDO ANÁLISE DO CONSULTORIA'}), frozenset({'ATO DECLARATÓRIO ASSINADO', 'DECLARAÇÃO ASSINADA', 'ATO DE APROVAÇÃO ASSINADO'}), frozenset({'AGUARDANDO APROVAÇÃO', 'AGUARDANDO PROVIDÊNCIAS SEFAZ', 'AGUARDANDO PROVIDÊNCIAS'}), frozenset({'AGUARDANDO ANÁLISE DO COORDENADOR', 'AGUARDANDO ASSINATURA DO COORDENADOR', 'AGUARDANDO ASSINATURA DO CONSULTORIA'}), frozenset({'AGUARDANDO ASSINATURA DO CONSULTORIA', 'AGUARDANDO ASSINATURA DO SECRETÁRIO', 'AGUARDANDO ASSINATURA DA SECRETÁRIA'}), frozenset({'AGUARDANDO ASSINATURA DO CONSULTORIA', 'AGUARDANDO ASSINATURA DA SECRETÁRIA', 'AGUARDANDO ASSINATURA DO CONTRIBUINTE'}), frozenset({'AGUARDANDO ANÁLISE DO COORDENADOR', 'AGUARDANDO ANÁLISE DO ORIENTADOR', 'AGUARDANDO ANÁLISE DO SECRETÁRIO'}), frozenset({'DOCUMENTO ANEXADO', 'DOCUMENTO ASSINADO'}), frozenset({'ATO DECLARATÓRIO ASSINADO', 'DECLARAÇÃO ASSINADA'}), frozenset({'AGUARDANDO ASSINATURA', 'AGUARDANDO AJUSTES', 'AGUARDANDO ANÁLISE'}), frozenset({'AGUARDANDO ANÁLISE DO COORDENADOR', 'AGUARDANDO ANÁLISE DO SECRETÁRIO', 'AGUARDANDO ANÁLISE'}), frozenset({'AGUARDANDO ANÁLISE DO SECRETÁRIO EXECUTIVO', 'AGUARDANDO ANÁLISE DA SECRETÁRIA', 'AGUARDANDO ANÁLISE DO SECRETÁRIO'}), frozenset({'AGUARDANDO ASSINATURA', 'AGUARDANDO ASSINATURA DO CONSULTORIA', 'AGUARDANDO ASSINATURA DA SECRETÁRIA'}), frozenset({'AGUARDANDO INFORMAÇÃO FISCAL', 'AGUARDANDO DOCUMENTO/INFORMAÇÃO'}), frozenset({'AGUARDANDO DOCUMENTO', 'AGUARDANDO ARQUIVAMENTO', 'AGUARDANDO DOCUMENTO/INFORMAÇÃO'}), frozenset({'AGUARDANDO ARQUIVAMENTO', 'AGUARDANDO APROVAÇÃO', 'AGUARDANDO ENCAMINHAMENTO'}), frozenset({'AGUARDANDO ASSINATURA', 'AGUARDANDO ASSINATURA DA SECRETÁRIA'}), frozenset({'AGUARDANDO ANÁLISE DA SECRETÁRIA', 'AGUARDANDO ANÁLISE DA SUPERVISÃO', 'AGUARDANDO ANÁLISE'}), frozenset({'AGUARDANDO ANÁLISE DO SECRETÁRIO EXECUTIVO', 'AGUARDANDO ANÁLISE DA SECRETÁRIA', 'AGUARDANDO ASSINATURA DA SECRETÁRIA'})]\n",
      "['AGUARDANDO AJUSTES' 'AGUARDANDO ANÁLISE'\n",
      " 'AGUARDANDO ANÁLISE DA SECRETÁRIA' 'AGUARDANDO ANÁLISE DA SUPERVISÃO'\n",
      " 'AGUARDANDO ANÁLISE DO CONSULTORIA' 'AGUARDANDO ANÁLISE DO COORDENADOR'\n",
      " 'AGUARDANDO ANÁLISE DO ORIENTADOR' 'AGUARDANDO ANÁLISE DO SECRETÁRIO'\n",
      " 'AGUARDANDO ANÁLISE DO SECRETÁRIO EXECUTIVO' 'AGUARDANDO APROVAÇÃO'\n",
      " 'AGUARDANDO ARQUIVAMENTO' 'AGUARDANDO ASSINATURA'\n",
      " 'AGUARDANDO ASSINATURA DA SECRETÁRIA'\n",
      " 'AGUARDANDO ASSINATURA DO CONSULTORIA'\n",
      " 'AGUARDANDO ASSINATURA DO CONTRIBUINTE'\n",
      " 'AGUARDANDO ASSINATURA DO COORDENADOR'\n",
      " 'AGUARDANDO ASSINATURA DO ORIENTADOR'\n",
      " 'AGUARDANDO ASSINATURA DO SECRETÁRIO'\n",
      " 'AGUARDANDO CIÊNCIA DA INSTITUIÇÃO FINANCEIRA'\n",
      " 'AGUARDANDO CIÊNCIA DO CONTRIBUINTE' 'AGUARDANDO DISTRIBUIÇÃO'\n",
      " 'AGUARDANDO DOCUMENTO'\n",
      " 'AGUARDANDO DOCUMENTO E/OU INFORMAÇÕES DO CONTRIBUINTE'\n",
      " 'AGUARDANDO DOCUMENTO/INFORMAÇÃO' 'AGUARDANDO ENCAMINHAMENTO'\n",
      " 'AGUARDANDO INFORMAÇÃO FISCAL' 'AGUARDANDO PROVIDÊNCIAS'\n",
      " 'AGUARDANDO PROVIDÊNCIAS SEFAZ' 'AJUSTADO' 'ANALISADO' 'ARQUIVADO'\n",
      " 'ASSINADO PELO ORIENTADOR' 'ATO DE APROVAÇÃO ASSINADO'\n",
      " 'ATO DE CONCORDÂNCIA DO CONTRIBUINTE ASSINADO' 'CANCELADO'\n",
      " 'CONTRIBUINTE CIENTE' 'DECLARAÇÃO ASSINADA' 'DECORRENDO PRAZO'\n",
      " 'DESARQUIVADO' 'DESPACHO ASSINADO' 'DEVOLVIDO' 'DISTRIBUÍDO'\n",
      " 'DOCUMENTO ANEXADO' 'DOCUMENTO ASSINADO'\n",
      " 'DOCUMENTO ASSINADO PELO CONTRIBUINTE' 'INFORMAÇÃO FISCAL ASSINADA'\n",
      " 'NEGADO' 'PARECER ASSINADO' 'PRAZO DECORRIDO' 'PROTOCOLIZADO'\n",
      " 'PROVIDENCIADO' 'REGIME ESPECIAL DE TRIBUTAÇÃO ASSINADO' 'SOBRESTADO']\n"
     ]
    }
   ],
   "source": [
    "from pm4py.objects.log.importer.xes import importer as xes_importer\n",
    "log_xes = xes_importer.apply('dados_limpos_UTF8.xes')\n",
    "#Carregando os dados da base\n",
    "dados = sqlite3.connect('dados.db')\n",
    "cursor = dados.cursor()\n",
    "# Consulta teste realizada utilizando somente SQLite\n",
    "#cursor.execute(\"SELECT identificação, situacao, destino, transicao FROM log WHERE assunto='REGIME ESPECIAL DE TRIBUTAÇÃO - ALIMENTOS E CONGÊNERES' AND ano='2018' ORDER BY datahoracadastro AND identificação\")\n",
    "#print(cursor.fetchall())\n",
    "df = pd.read_sql_query(\"SELECT identificação, situacao, destino, datahoracadastro FROM log WHERE assunto='REGIME ESPECIAL DE TRIBUTAÇÃO - ALIMENTOS E CONGÊNERES' ORDER BY datahoracadastro AND identificação\",dados)\n",
    "print('Número de eventos: ', len(df))\n",
    "print('Número de traces: ', len(df['identificação'].unique()))\n",
    "df = df.rename(columns={'identificação':'caseId','datahoracadastro':'cadastro'}) \n",
    "\n",
    "#----------------------------------------------------------\n",
    "# LIMPEZA: localiza pares de situações similares.\n",
    "def all_similar_pairs(strings, cutoff=0.85):\n",
    "    strings = strings.unique()\n",
    "    result = []\n",
    "    for i,s in enumerate(strings):\n",
    "        r = difflib.get_close_matches(s, strings[i:], cutoff=cutoff)\n",
    "        if len(r) > 1:\n",
    "            result.append(r)\n",
    "    result = [frozenset(s) for s in result]\n",
    "    return result\n",
    "\n",
    "print(all_similar_pairs(df.situacao, 0.7))\n",
    "\n",
    "#----------------------------------------------------------\n",
    "# Agrupamento das situações consideradas similares\n",
    "df = df.replace({'situacao': {\n",
    "    'REDISTRIBUÍDO': 'DISTRIBUÍDO',\n",
    "    'REDIRECIONADO': 'DISTRIBUÍDO',\n",
    "    'TRANSFERIDO': 'DISTRIBUÍDO',\n",
    "    'ATO DECLARATÓRIO ASSINADO': 'DECLARAÇÃO ASSINADA',\n",
    "    'CIENTE': 'CONTRIBUINTE CIENTE',\n",
    "    'PROCESSO ANALISADO': 'ANALISADO'\n",
    "    }})\n",
    "print(np.sort(df.situacao.unique()))\n",
    "\n",
    "#----------------------------------------------------------\n",
    "# Inclui a coluna 'atividade' como a concatenação do destino com a situacao\n",
    "df['atividade'] = df[['destino','situacao']].agg('-'.join, axis=1)\n",
    "\n",
    "#----------------------------------------------------------\n",
    "#Codificando atividades para valor inteiro (Utilizar somente para dados privados)\n",
    "atv = df['atividade'].unique()\n",
    "for i in range(df['atividade'].shape[0]):\n",
    "    j = 0\n",
    "    while(j<len(atv)):\n",
    "        if(df['atividade'][i] == atv[j]):\n",
    "            df['atividade'][i] = str(j)\n",
    "            j = len(atv)\n",
    "        else:\n",
    "            j+=1\n",
    "\n",
    "#----------------------------------------------------------\n",
    "# REMOVER SEQUÊNCIAS DE ATIVIDADES IGUAIS DE UM MESMO CASE_ID. ATRIBIR ULTIMA DATAHORACADASTRO DA SEQUÊNCIA. \n",
    "duplicated = (df['situacao'] == df['situacao'].shift(1)) & (df['caseId'] == df['caseId'].shift(1))\n",
    "first_id = 0\n",
    "for id in df.index:\n",
    "    if duplicated[id]:\n",
    "        df.at[first_id,'cadastro'] = df.loc[id,'cadastro']\n",
    "    else:\n",
    "        first_id = id\n",
    "df = df[~duplicated]"
   ]
  },
  {
   "cell_type": "markdown",
   "id": "b4bc048e",
   "metadata": {},
   "source": [
    "## Funções do algoritmo "
   ]
  },
  {
   "cell_type": "code",
   "execution_count": 6,
   "id": "58b95450",
   "metadata": {},
   "outputs": [],
   "source": [
    "#------------------------------------------Novas Funções-----------------------------------------------------------\n",
    "import pkgutil\n",
    "from pm4py import util as pmutil\n",
    "from pm4py.algo.discovery.dfg.variants import native as dfg_inst\n",
    "from pm4py.algo.discovery.inductive.util import tree_consistency\n",
    "from pm4py.algo.discovery.inductive.util.petri_el_count import Counts\n",
    "from pm4py.algo.discovery.inductive.variants.im.data_structures import subtree_plain as subtree\n",
    "from pm4py.algo.discovery.inductive.variants.im.util import get_tree_repr_implain\n",
    "from pm4py.objects.conversion.log import converter\n",
    "from pm4py.objects.conversion.process_tree import converter as tree_to_petri\n",
    "from pm4py.objects.log.obj import EventLog, Trace, Event\n",
    "from pm4py.objects.log.util import filtering_utils\n",
    "from pm4py.objects.process_tree.utils import generic\n",
    "from pm4py.objects.process_tree.utils.generic import tree_sort\n",
    "from pm4py.statistics.attributes.log import get as attributes_get\n",
    "from pm4py.statistics.end_activities.log import get as end_activities_get\n",
    "from pm4py.statistics.start_activities.log import get as start_activities_get\n",
    "from pm4py.util import exec_utils\n",
    "from pm4py.util import variants_util\n",
    "from pm4py.util import xes_constants\n",
    "from pm4py.util import constants\n",
    "from enum import Enum\n",
    "\n",
    "\n",
    "class Parameters(Enum):\n",
    "    ACTIVITY_KEY = constants.PARAMETER_CONSTANT_ACTIVITY_KEY\n",
    "    START_TIMESTAMP_KEY = constants.PARAMETER_CONSTANT_START_TIMESTAMP_KEY\n",
    "    TIMESTAMP_KEY = constants.PARAMETER_CONSTANT_TIMESTAMP_KEY\n",
    "    CASE_ID_KEY = constants.PARAMETER_CONSTANT_CASEID_KEY\n",
    "    NOISE_THRESHOLD = \"noiseThreshold\"\n",
    "    EMPTY_TRACE_KEY = \"empty_trace\"\n",
    "    ONCE_PER_TRACE_KEY = \"once_per_trace\"\n",
    "    CONCURRENT_KEY = \"concurrent\"\n",
    "    STRICT_TAU_LOOP_KEY = \"strict_tau_loop\"\n",
    "    TAU_LOOP_KEY = \"tau_loop\"\n",
    "\n",
    "\n",
    "def apply_tree_variants(variants,return_process_tree, parameters=None):\n",
    "    \"\"\"\n",
    "    Apply the IM algorithm to a dictionary of variants obtaining a process tree\n",
    "\n",
    "    Parameters\n",
    "    ----------\n",
    "    variants\n",
    "        Variants\n",
    "    parameters\n",
    "        Parameters of the algorithm, including:\n",
    "            Parameters.ACTIVITY_KEY -> attribute of the log to use as activity name\n",
    "            (default concept:name)\n",
    "\n",
    "    Returns\n",
    "    ----------\n",
    "    process_tree\n",
    "        Process tree\n",
    "    \"\"\"\n",
    "    log = EventLog()\n",
    "    activity_key = exec_utils.get_param_value(Parameters.ACTIVITY_KEY, parameters, xes_constants.DEFAULT_NAME_KEY)\n",
    "\n",
    "    var_keys = list(variants.keys())\n",
    "    for var in var_keys:\n",
    "        trace = Trace()\n",
    "        activities = variants_util.get_activities_from_variant(var)\n",
    "        for act in activities:\n",
    "            trace.append(Event({activity_key: act}))\n",
    "        log.append(trace)\n",
    "\n",
    "    return apply_tree(log, return_process_tree, parameters=parameters)\n",
    "#----------------------------------------------------------\n",
    "def apply_tree(log, return_process_tree, parameters=None):\n",
    "    if parameters is None:\n",
    "        parameters = {}\n",
    "\n",
    "    if pkgutil.find_loader(\"pandas\"):\n",
    "        import pandas as pd\n",
    "        from pm4py.statistics.variants.pandas import get as variants_get\n",
    "    \n",
    "        if type(log) is pd.DataFrame:\n",
    "            vars = variants_get.get_variants_count(log, parameters=parameters)\n",
    "            return apply_tree_variants(vars, return_process_tree, parameters=parameters)\n",
    "\n",
    "    activity_key = exec_utils.get_param_value(Parameters.ACTIVITY_KEY, parameters,\n",
    "                                              pmutil.xes_constants.DEFAULT_NAME_KEY)\n",
    "\n",
    "    log = converter.apply(log, parameters=parameters)\n",
    "    # since basic IM is influenced once per variant, it makes sense to keep one trace per variant\n",
    "    log = filtering_utils.keep_one_trace_per_variant(log, parameters=parameters)\n",
    "    # keep only the activity attribute (since the others are not used)\n",
    "    log = filtering_utils.keep_only_one_attribute_per_event(log, activity_key)\n",
    "\n",
    "    dfg = [(k, v) for k, v in dfg_inst.apply(log, parameters=parameters).items() if v > 0]\n",
    "    c = Counts()\n",
    "    activities = attributes_get.get_attribute_values(log, activity_key)\n",
    "    start_activities = list(start_activities_get.get_start_activities(log, parameters=parameters).keys())\n",
    "    end_activities = list(end_activities_get.get_end_activities(log, parameters=parameters).keys())\n",
    "    contains_empty_traces = False\n",
    "    traces_length = [len(trace) for trace in log]\n",
    "    if traces_length:\n",
    "        contains_empty_traces = min([len(trace) for trace in log]) == 0\n",
    "\n",
    "    recursion_depth = 0\n",
    "    sub = subtree.make_tree(log, dfg, dfg, dfg, activities, c, recursion_depth, 0.0, start_activities,\n",
    "                            end_activities,\n",
    "                            start_activities, end_activities, parameters)\n",
    "    if(return_process_tree):\n",
    "        #### utilizar quando quiser gerar a process_tree\n",
    "        process_tree = get_tree_repr_implain.get_repr(sub, 0, contains_empty_traces=contains_empty_traces)\n",
    "        # Ensures consistency to the parent pointers in the process tree\n",
    "        tree_consistency.fix_parent_pointers(process_tree)\n",
    "        # Fixes a 1 child XOR that is added when single-activities flowers are found\n",
    "        tree_consistency.fix_one_child_xor_flower(process_tree)\n",
    "        # folds the process tree (to simplify it in case fallthroughs/filtering is applied)\n",
    "        process_tree = generic.fold(process_tree)\n",
    "        # sorts the process tree to ensure consistency in different executions of the algorithm\n",
    "        tree_sort(process_tree)\n",
    "\n",
    "        # CRISTON: retorna também a subtree, pois contém os sub-logs\n",
    "        # return process_tree\n",
    "        return process_tree,sub\n",
    "    return sub\n",
    "\n",
    "def apply_sublog_tree(sub_, return_process_tree, parameters=None):\n",
    "    if parameters is None:\n",
    "        parameters = {}\n",
    "\n",
    "    if pkgutil.find_loader(\"pandas\"):\n",
    "        import pandas as pd\n",
    "        from pm4py.statistics.variants.pandas import get as variants_get\n",
    "    \n",
    "        if type(sub_.log) is pd.DataFrame:\n",
    "            vars = variants_get.get_variants_count(sub_.log, parameters=parameters)\n",
    "            return apply_tree_variants(vars, return_process_tree, parameters=parameters)\n",
    "\n",
    "    activity_key = exec_utils.get_param_value(Parameters.ACTIVITY_KEY, parameters,\n",
    "                                              pmutil.xes_constants.DEFAULT_NAME_KEY)\n",
    "\n",
    "    log = sub_.log\n",
    "    # since basic IM is influenced once per variant, it makes sense to keep one trace per variant\n",
    "    log = filtering_utils.keep_one_trace_per_variant(log, parameters=parameters)\n",
    "    # keep only the activity attribute (since the others are not used)\n",
    "    log = filtering_utils.keep_only_one_attribute_per_event(log, activity_key)\n",
    "\n",
    "    dfg = [(k, v) for k, v in dfg_inst.apply(log, parameters=parameters).items() if v > 0]\n",
    "    c = Counts()\n",
    "    activities = attributes_get.get_attribute_values(log, activity_key)\n",
    "    start_activities = list(start_activities_get.get_start_activities(log, parameters=parameters).keys())\n",
    "    end_activities = list(end_activities_get.get_end_activities(log, parameters=parameters).keys())\n",
    "    contains_empty_traces = False\n",
    "    traces_length = [len(trace) for trace in log]\n",
    "    if traces_length:\n",
    "        contains_empty_traces = min([len(trace) for trace in log]) == 0\n",
    "\n",
    "    recursion_depth = 0\n",
    "    \n",
    "    sub = subtree.make_tree(sub_.log, dfg, dfg, dfg, activities, c, recursion_depth, 0.0, start_activities,\n",
    "                            end_activities,\n",
    "                            start_activities, end_activities, parameters)\n",
    "    #### utilizar quando quiser gerar a process_tree\n",
    "    process_tree = get_tree_repr_implain.get_repr(sub, 0, contains_empty_traces=contains_empty_traces)\n",
    "    # Ensures consistency to the parent pointers in the process tree\n",
    "    tree_consistency.fix_parent_pointers(process_tree)\n",
    "    # Fixes a 1 child XOR that is added when single-activities flowers are found\n",
    "    tree_consistency.fix_one_child_xor_flower(process_tree)\n",
    "    # folds the process tree (to simplify it in case fallthroughs/filtering is applied)\n",
    "    process_tree = generic.fold(process_tree)\n",
    "    # sorts the process tree to ensure consistency in different executions of the algorithm\n",
    "    tree_sort(process_tree)\n",
    "    \n",
    "    # CRISTON: retorna também a subtree, pois contém os sub-logs\n",
    "    # return process_tree\n",
    "    return process_tree\n",
    "\n",
    "#----------------------------------------------------------\n",
    "#Criando a Matriz de distância de edição dos Traces com levenshtein\n",
    "from Levenshtein import distance as lev \n",
    "\n",
    "def matriz_distancia(traces):\n",
    "    #sublog tem que vir como traces\n",
    "    distances = np.zeros((traces.size, traces.size))\n",
    "\n",
    "    for i in range(distances.shape[0]):\n",
    "        for j in range(i+1, distances.shape[1]):\n",
    "            distances[i][j] = lev(traces['str'][i], traces['str'][j])\n",
    "            distances[j][i] = distances[i][j]\n",
    "    return distances\n",
    "\n",
    "#----------------------------------------------------------\n",
    "#Deve receber um dataframe pandas\n",
    "def print_tree(s, return_process_tree):\n",
    "    tree = apply_sublog_tree(s,return_process_tree)\n",
    "    #pm4py.view_process_tree(tree)\n",
    "    return tree\n",
    "\n",
    "#----------------------------------------------------------\n",
    "def gerar_traces_sublog(sub):\n",
    "    sub_log_df = pd.DataFrame(columns=['caseId','atividades','cadastro'])\n",
    "\n",
    "    k=0\n",
    "    for i in range(len(sub.log)):\n",
    "        grupo=pd.DataFrame(data=sub.log[i])\n",
    "        for j in range(len(grupo)):\n",
    "            sub_log_df.loc[len(sub_log_df)]=[k,grupo['concept:name'][j],X['cadastro'][0]]\n",
    "        k+=1\n",
    "\n",
    "    #traces = sub_log_df.groupby(sub_log_df.caseId)['atividades'].agg(str=lambda x: '-'.join(x))\n",
    "    #sub_log_df é um dataframe \n",
    "    #traces é o conjunto de atividades organizadas linearmente por trace\n",
    "    return sub_log_df#, traces\n",
    "#----------------------------------------------------------\n",
    "#Gera os clusters de sublog retornando o clusterid ao qual cada trace pertence\n",
    "from Bio.Cluster import kmedoids\n",
    "\n",
    "def cluster_sublog(dist):\n",
    "    clusterid, error, nfound = kmedoids(dist)\n",
    "    return clusterid\n",
    "#----------------------------------------------------------\n",
    "def Buscar_Cluster(clusters, sub_df, groups, id_clusters_selecionados):\n",
    "    ids = sub_df['caseId'].unique()\n",
    "    cluster_sub_esq = pd.DataFrame(columns=['caseId', 'atividades','cadastro'])\n",
    "    cluster_sub_dir = pd.DataFrame(columns=['caseId', 'atividades','cadastro'])\n",
    "\n",
    "    for i in ids:\n",
    "        grupo = groups.get_group(i)\n",
    "        if(clusters[i]==id_clusters_selecionados[0]):\n",
    "            for j in range (grupo.shape[0]):\n",
    "                cluster_sub_esq.loc[len(cluster_sub_esq)] = grupo.iloc[j]\n",
    "        else:\n",
    "            for j in range (grupo.shape[0]):\n",
    "                cluster_sub_dir.loc[len(cluster_sub_dir)] = grupo.iloc[j]\n",
    "                \n",
    "    log = pm4py.format_dataframe(cluster_sub_esq, case_id='caseId', activity_key='atividades', timestamp_key='cadastro')\n",
    "    cluster_sub_esq = apply_tree(log, False)\n",
    "    log = pm4py.format_dataframe(cluster_sub_dir, case_id='caseId', activity_key='atividades', timestamp_key='cadastro')\n",
    "    cluster_sub_dir = apply_tree(log, False)\n",
    "    return cluster_sub_esq, cluster_sub_dir\n",
    "\n",
    "#----------------------------------------------------------\n",
    "def gerar_subs_esq_dir(sub):\n",
    "    sub_df= gerar_traces_sublog(sub)\n",
    "    groups = sub_df.groupby(sub_df.caseId)\n",
    "    dist =  matriz_distancia(traces)\n",
    "    clusters = cluster_sublog(dist)\n",
    "    id_clusters_selecionados=sorted(set(clusters))\n",
    "    sublog_esq, sublog_dir = Buscar_Cluster(clusters, sub_df, groups, id_clusters_selecionados)\n",
    "    return sublog_esq, sublog_dir\n",
    "#----------------------------------------------------------\n",
    "def find_fall_through(r, MIN_TRACES):\n",
    "\n",
    "    if r is None: return False, None\n",
    "    \n",
    "    # if not has_fall_through and len(r.log) >= MIN_TRACES:\n",
    "    if len(r.log) >= MIN_TRACES and (r.detected_cut == 'flower' or r.detected_cut == 'tau_loop' or r.detected_cut == 'strict_tau_loop'):\n",
    "        print(r.detected_cut, len(r.children), len(r.log))\n",
    "        return (True, r)\n",
    "    \n",
    "    # has_fall_through, sublog = False, None\n",
    "    for c in r.children:\n",
    "        child_has_fall_through, child_sublog = find_fall_through(c,MIN_TRACES)\n",
    "        if child_has_fall_through:\n",
    "            return True, child_sublog\n",
    "\n",
    "    return False, None\n",
    "#----------------------------------------------------------\n",
    "def remove_fall_through(s, sublog_fall_through, novo_sublog):    \n",
    "    if s is None: return None\n",
    "    if s == sublog_fall_through:\n",
    "        print(\"Iguais\")\n",
    "        return novo_sublog\n",
    "\n",
    "    for t in range(len(s.children)):\n",
    "        s.children[t] = remove_fall_through(s.children[t], sublog_fall_through, novo_sublog)\n",
    "    \n",
    "    return s\n",
    "#----------------------------------------------------------\n",
    "def teste(s, sublog_fall_through):    \n",
    "\n",
    "    if s == sublog_fall_through:\n",
    "        print(\"TEM\")\n",
    "\n",
    "    for t in range(len(s.children)):\n",
    "        if(s.children[t]!=None):\n",
    "            teste(s.children[t], sublog_fall_through)"
   ]
  },
  {
   "cell_type": "markdown",
   "id": "4b87207e",
   "metadata": {},
   "source": [
    "## Principal"
   ]
  },
  {
   "cell_type": "code",
   "execution_count": 7,
   "id": "5262cf55",
   "metadata": {},
   "outputs": [],
   "source": [
    "def list_trees_IM_cluster(s,MIN_TRACES):\n",
    "   \n",
    "    has_fall_through, sublog = find_fall_through(s,MIN_TRACES)\n",
    "    if has_fall_through:\n",
    "        s_esq, s_dir = gerar_subs_esq_dir(s)\n",
    "        list_esq = list_trees_IM_cluster(s_esq,MIN_TRACES)\n",
    "        list_dir = list_trees_IM_cluster(s_dir,MIN_TRACES)\n",
    "\n",
    "        List = []\n",
    "        list_esq_dir = list_esq + list_dir\n",
    "        for t in list_esq_dir:\n",
    "            aux = s.__deepcopy__()\n",
    "            List.append(remove_fall_through(aux, sublog, t))\n",
    "        return List\n",
    "    return [s]"
   ]
  },
  {
   "cell_type": "code",
   "execution_count": 52,
   "id": "51925a2f",
   "metadata": {},
   "outputs": [],
   "source": [
    "ids = [0,0,0,0,1,1,1,1,2,2,2,2,3,3,3,3,4,4,4,4,5,5,5,5,6,6,6,6,7,7,7,7,7,7,7,7,8,8,8,8,8,8,8,8,9,9,9,9,9,9,9,9,10,10,10,10,10,10,10,10,11,11,11,11,11,11,11,11,12,12,12,12,12,12,12,12,12,12,12]\n",
    "atv = ['a', 'b', 'c', 'd','a', 'b', 'c', 'd','a', 'b', 'c', 'd','a', 'c', 'b', 'd','a', 'c', 'b', 'd','a', 'c', 'b', 'd','a', 'c', 'b', 'd','a', 'b', 'c', 'e', 'f', 'b', 'c', 'd','a', 'b', 'c', 'e', 'f', 'b', 'c', 'd','a', 'c', 'b', 'e', 'f', 'b', 'c', 'd','a', 'c', 'b', 'e', 'f', 'b', 'c', 'd','a', 'b', 'c', 'e', 'f', 'c', 'b', 'd','a', 'c', 'b', 'e', 'f', 'b', 'c','e', 'f', 'c','d']\n",
    "time = X['cadastro'][0:len(ids)]\n",
    "df_teste = pd.DataFrame(zip(ids, atv, time), columns = ['caseId', 'atividade','cadastro'])\n",
    "X = df_teste[['caseId', 'atividade','cadastro']]\n",
    "groups = X.groupby(X.caseId)\n",
    "traces = X.groupby(X.caseId)['atividade'].agg(str=lambda x: '-'.join(x))\n",
    "log = pm4py.format_dataframe(X, case_id='caseId', activity_key='atividade', timestamp_key='cadastro')\n",
    "tree, sub = apply_tree(log, True)"
   ]
  },
  {
   "cell_type": "code",
   "execution_count": 56,
   "id": "a529704c",
   "metadata": {},
   "outputs": [
    {
     "name": "stdout",
     "output_type": "stream",
     "text": [
      "strict_tau_loop 1 8\n",
      "Iguais\n"
     ]
    }
   ],
   "source": [
    "#Executar até aqui para ter o problema\n",
    "#subs é uma lista de todas as subtreeplain's geradas após a remoção do fall through\n",
    "subs = list_trees_IM_cluster(sub, 8)"
   ]
  },
  {
   "cell_type": "code",
   "execution_count": 60,
   "id": "ba2816c3",
   "metadata": {},
   "outputs": [
    {
     "data": {
      "text/plain": [
       "False"
      ]
     },
     "execution_count": 60,
     "metadata": {},
     "output_type": "execute_result"
    }
   ],
   "source": [
    "subs[0]==subs[1]"
   ]
  },
  {
   "cell_type": "markdown",
   "id": "1df695f3",
   "metadata": {},
   "source": [
    "O algoritmo gera dois subtreeplain diferentes, mas como pode-se observar a seguir os dois BPM's são iguais"
   ]
  },
  {
   "cell_type": "code",
   "execution_count": 58,
   "id": "16c4c5da",
   "metadata": {},
   "outputs": [
    {
     "data": {
      "image/png": "[encoded data removed]",
      "text/plain": [
       "<IPython.core.display.Image object>"
      ]
     },
     "metadata": {},
     "output_type": "display_data"
    }
   ],
   "source": [
    "tree = print_tree(subs[0], True)\n",
    "bpmn_graph = pm4py.convert_to_bpmn(tree)\n",
    "gviz = bpmn_visualization.apply(bpmn_graph)\n",
    "bpmn_visualization.view(gviz)"
   ]
  },
  {
   "cell_type": "code",
   "execution_count": 59,
   "id": "e7e89b22",
   "metadata": {},
   "outputs": [
    {
     "data": {
      "image/png": "[encoded data removed]",
      "text/plain": [
       "<IPython.core.display.Image object>"
      ]
     },
     "metadata": {},
     "output_type": "display_data"
    }
   ],
   "source": [
    "tree = print_tree(subs[1], True)\n",
    "bpmn_graph = pm4py.convert_to_bpmn(tree)\n",
    "gviz = bpmn_visualization.apply(bpmn_graph)\n",
    "bpmn_visualization.view(gviz)"
   ]
  },
  {
   "cell_type": "markdown",
   "id": "b3084646",
   "metadata": {},
   "source": [
    "# Algoritmo Oficial"
   ]
  },
  {
   "cell_type": "code",
   "execution_count": 27,
   "id": "dcb56523",
   "metadata": {},
   "outputs": [],
   "source": [
    "'''\n",
    "X = df[['caseId', 'atividade','cadastro']]\n",
    "X = X[0:1500]\n",
    "groups = X.groupby(X.caseId)\n",
    "traces = X.groupby(X.caseId)['atividade'].agg(str=lambda x: '-'.join(x))\n",
    "log = pm4py.format_dataframe(X, case_id='caseId', activity_key='atividade', timestamp_key='cadastro')\n",
    "tree, sub = apply_tree(log, True)\n",
    "'''"
   ]
  },
  {
   "cell_type": "code",
   "execution_count": 24,
   "id": "ec5d170a",
   "metadata": {},
   "outputs": [
    {
     "data": {
      "text/plain": [
       "'\\nMIN_TRACES_LIST = [32,64,128,256]\\ntotal_traces = [2000,5000,10000]\\nmostrar = False\\nfor i in MIN_TRACES_LIST:\\n    print(\"Modelo com MIN_TRACES = \"+str(i))\\n    for j in (total_traces):\\n        print(\"Modelo com total de traces \"+str(j))\\n        X = df[[\\'caseId\\', \\'atividade\\',\\'cadastro\\']]\\n        X = X[0:j]\\n        groups = X.groupby(X.caseId)\\n        traces = X.groupby(X.caseId)[\\'atividade\\'].agg(str=lambda x: \\'-\\'.join(x))\\n\\n\\n        log = pm4py.format_dataframe(X, case_id=\\'caseId\\', activity_key=\\'atividade\\', timestamp_key=\\'cadastro\\')\\n        sub = apply_tree(log, False)\\n        subs = list_trees_IM_cluster(sub,i)\\n        \\n        if mostrar:\\n            for k in range(len(subs)):\\n                print(\"____________________BPM_\"+str(k)+\"____________________\")\\n                tree = print_tree(subs[k], True)\\n                bpmn_graph = pm4py.convert_to_bpmn(tree)\\n                gviz = bpmn_visualization.apply(bpmn_graph)\\n                bpmn_visualization.view(gviz)\\n    print(\"______________________________________________________________________________________________________________________\")\\n    '"
      ]
     },
     "execution_count": 24,
     "metadata": {},
     "output_type": "execute_result"
    }
   ],
   "source": [
    "'''\n",
    "MIN_TRACES_LIST = [32,64,128,256]\n",
    "total_traces = [2000,5000,10000]\n",
    "mostrar = False\n",
    "for i in MIN_TRACES_LIST:\n",
    "    print(\"Modelo com MIN_TRACES = \"+str(i))\n",
    "    for j in (total_traces):\n",
    "        print(\"Modelo com total de traces \"+str(j))\n",
    "        X = df[['caseId', 'atividade','cadastro']]\n",
    "        X = X[0:j]\n",
    "        groups = X.groupby(X.caseId)\n",
    "        traces = X.groupby(X.caseId)['atividade'].agg(str=lambda x: '-'.join(x))\n",
    "\n",
    "\n",
    "        log = pm4py.format_dataframe(X, case_id='caseId', activity_key='atividade', timestamp_key='cadastro')\n",
    "        sub = apply_tree(log, False)\n",
    "        subs = list_trees_IM_cluster(sub,i)\n",
    "        \n",
    "        if mostrar:\n",
    "            for k in range(len(subs)):\n",
    "                print(\"____________________BPM_\"+str(k)+\"____________________\")\n",
    "                tree = print_tree(subs[k], True)\n",
    "                bpmn_graph = pm4py.convert_to_bpmn(tree)\n",
    "                gviz = bpmn_visualization.apply(bpmn_graph)\n",
    "                bpmn_visualization.view(gviz)\n",
    "    print(\"______________________________________________________________________________________________________________________\")\n",
    "    '''"
   ]
  },
  {
   "cell_type": "code",
   "execution_count": 81,
   "id": "4f26b760",
   "metadata": {},
   "outputs": [],
   "source": [
    "'''\n",
    "t = []\n",
    "for i in range(len(subs)):\n",
    "    t.append(pm4py.discover_process_tree_inductive(subs[i].log))\n",
    "# Salvando Process Trees do subs gerados\n",
    "for i in range(len(subs)):\n",
    "    tree = print_tree(subs[i], True)\n",
    "    pm4py.write_ptml(tree, \"Trees/tree_\"+str(i)+\".ptml\")\n",
    "'''"
   ]
  },
  {
   "cell_type": "raw",
   "id": "c5479745",
   "metadata": {},
   "source": [
    "'''\n",
    "#Lendo Process trees e apresentando\n",
    "trees =[]\n",
    "for i in range(4):\n",
    "    trees.append(pm4py.read_ptml(\"Trees/tree_\"+str(i)+\".ptml\"))\n",
    "for i in range(len(trees)):\n",
    "    print(\"____________________Process_Tree_\"+str(i)+\"____________________\")\n",
    "    pm4py.view_process_tree(trees[i])\n",
    "'''"
   ]
  }
 ],
 "metadata": {
  "kernelspec": {
   "display_name": "Python 3 (ipykernel)",
   "language": "python",
   "name": "python3"
  },
  "language_info": {
   "codemirror_mode": {
    "name": "ipython",
    "version": 3
   },
   "file_extension": ".py",
   "mimetype": "text/x-python",
   "name": "python",
   "nbconvert_exporter": "python",
   "pygments_lexer": "ipython3",
   "version": "3.9.7"
  }
 },
 "nbformat": 4,
 "nbformat_minor": 5
}
